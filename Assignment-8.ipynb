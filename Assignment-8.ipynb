{
 "cells": [
  {
   "cell_type": "raw",
   "id": "1ab9d1a1",
   "metadata": {},
   "source": [
    "1. Is the Python Standard Library included with PyInputPlus?\n",
    "Ans: No"
   ]
  },
  {
   "cell_type": "raw",
   "id": "c0c50ec6",
   "metadata": {},
   "source": [
    "2. Why is PyInputPlus commonly imported with import pyinputplus as pypi?\n",
    "Ans: It is commonly imported as pyip not pypi: Which means PYthonInputPlus"
   ]
  },
  {
   "cell_type": "raw",
   "id": "fa22e6d4",
   "metadata": {},
   "source": [
    "3. How do you distinguish between inputInt() and inputFloat()?\n",
    "Ans: Even though we pass integer to inputFloat, it returns floating point number as result"
   ]
  },
  {
   "cell_type": "raw",
   "id": "5375f953",
   "metadata": {},
   "source": [
    "4. Using PyInputPlus, how do you ensure that the user enters a whole number between 0 and 99?\n",
    "Ans: We use max and min parameters in InputFloat method"
   ]
  },
  {
   "cell_type": "raw",
   "id": "0bf754a8",
   "metadata": {},
   "source": [
    "5. What is transferred to the keyword arguments allowRegexes and blockRegexes?\n",
    "Ans: It is used to accept and block regular expressions"
   ]
  },
  {
   "cell_type": "raw",
   "id": "652da18b",
   "metadata": {},
   "source": [
    "6. If a blank input is entered three times, what does inputStr(limit=3) do?\n",
    "Ans: It generated RetrylimitException error"
   ]
  },
  {
   "cell_type": "raw",
   "id": "3310933d",
   "metadata": {},
   "source": [
    "7. If blank input is entered three times, what does inputStr(limit=3, default=&#39;hello&#39;) do?\n",
    "Ans: It will print default value presented."
   ]
  }
 ],
 "metadata": {
  "kernelspec": {
   "display_name": "Python 3",
   "language": "python",
   "name": "python3"
  },
  "language_info": {
   "codemirror_mode": {
    "name": "ipython",
    "version": 3
   },
   "file_extension": ".py",
   "mimetype": "text/x-python",
   "name": "python",
   "nbconvert_exporter": "python",
   "pygments_lexer": "ipython3",
   "version": "3.8.8"
  }
 },
 "nbformat": 4,
 "nbformat_minor": 5
}

{
 "cells": [
  {
   "cell_type": "raw",
   "id": "862f98c6",
   "metadata": {},
   "source": [
    "1. To what does a relative path refer?\n",
    "Ans: Relative path refers to the path where the program is being run in computer. We ususally use relative path when we run the program in other computer where don't know the file would be."
   ]
  },
  {
   "cell_type": "raw",
   "id": "cc4ee64b",
   "metadata": {},
   "source": [
    "2. What does an absolute path start with your operating system?\n",
    "Ans: complete details of the file is required for absolute path. "
   ]
  },
  {
   "cell_type": "raw",
   "id": "79e32e8b",
   "metadata": {},
   "source": [
    "3. What do the functions os.getcwd() and os.chdir() do?\n",
    "Ans: os.getcwd: Will return current working directory\n",
    "     os.chdir(): Will change the current working directory"
   ]
  },
  {
   "cell_type": "raw",
   "id": "2aa9cb14",
   "metadata": {},
   "source": [
    "4. What are the . and .. folders?\n",
    "Ans: . : refers to current directory\n",
    "     .. : refers to parent directory"
   ]
  },
  {
   "cell_type": "raw",
   "id": "064e819e",
   "metadata": {},
   "source": [
    "5. In C:\\bacon\\eggs\\spam.txt, which part is the dir name, and which part is the base name?\n",
    "Ans: C:\\bacon\\eggs\\: Dir name\n",
    "        spam.txt is base name"
   ]
  },
  {
   "cell_type": "raw",
   "id": "23e42531",
   "metadata": {},
   "source": [
    "6. What are the three “mode” arguments that can be passed to the open() function?\n",
    "Ans: r= Read\n",
    "     w= Write\n",
    "     a= append\n",
    "     x= create and write if file doesn't exists"
   ]
  },
  {
   "cell_type": "raw",
   "id": "99b45605",
   "metadata": {},
   "source": [
    "7. What happens if an existing file is opened in write mode?\n",
    "Ans: It overrides the existing text in the file"
   ]
  },
  {
   "cell_type": "raw",
   "id": "56115992",
   "metadata": {},
   "source": [
    "8. How do you tell the difference between read() and readlines()?\n",
    "Ans; read(): returns each line in the form of type string\n",
    "     readlines(): returns list in which each line is a value in list."
   ]
  },
  {
   "cell_type": "raw",
   "id": "c6253c25",
   "metadata": {},
   "source": [
    "9. What data structure does a shelf value resemble?\n",
    "Ans: It represents a Dictionary"
   ]
  },
  {
   "cell_type": "code",
   "execution_count": null,
   "id": "e76799c9",
   "metadata": {},
   "outputs": [],
   "source": []
  }
 ],
 "metadata": {
  "kernelspec": {
   "display_name": "Python 3",
   "language": "python",
   "name": "python3"
  },
  "language_info": {
   "codemirror_mode": {
    "name": "ipython",
    "version": 3
   },
   "file_extension": ".py",
   "mimetype": "text/x-python",
   "name": "python",
   "nbconvert_exporter": "python",
   "pygments_lexer": "ipython3",
   "version": "3.8.8"
  }
 },
 "nbformat": 4,
 "nbformat_minor": 5
}

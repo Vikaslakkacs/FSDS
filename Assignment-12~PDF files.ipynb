{
 "cells": [
  {
   "cell_type": "code",
   "execution_count": null,
   "id": "b5b5e3b0",
   "metadata": {},
   "outputs": [],
   "source": [
    "1. In what modes should the PdfFileReader() and PdfFileWriter() File objects will be opened?\n",
    "Ans: Binary mode"
   ]
  },
  {
   "cell_type": "code",
   "execution_count": null,
   "id": "0ce9804c",
   "metadata": {},
   "outputs": [],
   "source": [
    "2. From a PdfFileReader object, how do you get a Page object for page 5?\n",
    "Ans: pdfreader= pdf_reader.getPage(4)"
   ]
  },
  {
   "cell_type": "code",
   "execution_count": null,
   "id": "8236b490",
   "metadata": {},
   "outputs": [],
   "source": [
    "3. What PdfFileReader variable stores the number of pages in the PDF document?\n",
    "Ans: PdfFileReader.numPages"
   ]
  },
  {
   "cell_type": "code",
   "execution_count": null,
   "id": "cc99c94c",
   "metadata": {},
   "outputs": [],
   "source": [
    "4. If a PdfFileReader object’s PDF is encrypted with the password swordfish, what must you do\n",
    "before you can obtain Page objects from it?\n",
    "Ans: pdfFileReader.decrypt('swordfish')"
   ]
  },
  {
   "cell_type": "code",
   "execution_count": null,
   "id": "fb101e13",
   "metadata": {},
   "outputs": [],
   "source": [
    "\n",
    "5. What methods do you use to rotate a page?\n",
    "Ans: Clockwise and Anticlockwise"
   ]
  },
  {
   "cell_type": "code",
   "execution_count": null,
   "id": "70108518",
   "metadata": {},
   "outputs": [],
   "source": [
    "\n",
    "6. What is the difference between a Run object and a Paragraph object?\n",
    "Ans: Run object is low level of word document\n",
    "    Paragraph object is middle level of word document"
   ]
  },
  {
   "cell_type": "code",
   "execution_count": null,
   "id": "9ff981c2",
   "metadata": {},
   "outputs": [],
   "source": [
    "\n",
    "7. How do you obtain a list of Paragraph objects for a Document object that’s stored in a variable\n",
    "named doc?\n",
    "Ans: "
   ]
  },
  {
   "cell_type": "code",
   "execution_count": null,
   "id": "f45ab352",
   "metadata": {},
   "outputs": [],
   "source": [
    "\n",
    "8. What type of object has bold, underline, italic, strike, and outline variables?\n",
    "Anss: doc.add_paragarph().add_run()"
   ]
  },
  {
   "cell_type": "code",
   "execution_count": null,
   "id": "bdc3745c",
   "metadata": {},
   "outputs": [],
   "source": [
    "\n",
    "9. What is the difference between False, True, and None for the bold variable?\n",
    "Ans: True: Enable Bold\n",
    "    False: Disable Bold\n",
    "    none: Leave it to the run and it inherits the style"
   ]
  },
  {
   "cell_type": "code",
   "execution_count": null,
   "id": "add6f785",
   "metadata": {},
   "outputs": [],
   "source": [
    "\n",
    "10. How do you create a Document object for a new Word document?\n",
    "Ans: newdoc= Docx.document()"
   ]
  },
  {
   "cell_type": "code",
   "execution_count": null,
   "id": "5fd08c5d",
   "metadata": {},
   "outputs": [],
   "source": [
    "\n",
    "11. How do you add a paragraph with the text 'Hello, there!' to a Document object stored in a\n",
    "variable named doc?\n",
    "Ans: Doc.add_paragraph('Hello, there!')"
   ]
  },
  {
   "cell_type": "code",
   "execution_count": null,
   "id": "7d5c1b7a",
   "metadata": {},
   "outputs": [],
   "source": [
    "\n",
    "12. What integers represent the levels of headings available in Word documents?\n",
    "Ans: 0-9"
   ]
  },
  {
   "cell_type": "code",
   "execution_count": 3,
   "id": "f0b2c97b",
   "metadata": {},
   "outputs": [
    {
     "data": {
      "text/plain": [
       "'/Users/vikaslakka/Desktop/FSDS/Assignments'"
      ]
     },
     "execution_count": 3,
     "metadata": {},
     "output_type": "execute_result"
    }
   ],
   "source": [
    "pwd"
   ]
  },
  {
   "cell_type": "code",
   "execution_count": 1,
   "id": "526e2d9c",
   "metadata": {},
   "outputs": [],
   "source": [
    "import PyPDF2 as pdf"
   ]
  },
  {
   "cell_type": "code",
   "execution_count": 9,
   "id": "ebc5ae82",
   "metadata": {},
   "outputs": [
    {
     "name": "stdout",
     "output_type": "stream",
     "text": [
      "1\n",
      "Covid RTPCR\n"
     ]
    }
   ],
   "source": [
    "## Extract text from files\n",
    "with open('/Users/vikaslakka/Desktop/FSDS/Assignments/Covid report.pdf','rb') as covid:\n",
    "    pdf_reader= pdf.PdfFileReader(covid)\n",
    "    print(pdf_reader.numPages)\n",
    "    page_1= pdf_reader.getPage(0)\n",
    "    print(page_1.extractText())"
   ]
  },
  {
   "cell_type": "code",
   "execution_count": 10,
   "id": "2f8f101e",
   "metadata": {},
   "outputs": [
    {
     "data": {
      "text/plain": [
       "'__main__'"
      ]
     },
     "execution_count": 10,
     "metadata": {},
     "output_type": "execute_result"
    }
   ],
   "source": [
    "__name__"
   ]
  },
  {
   "cell_type": "code",
   "execution_count": 11,
   "id": "779849b7",
   "metadata": {},
   "outputs": [],
   "source": [
    "# Writing pdf into another file and rotating\n",
    "with open('/Users/vikaslakka/Desktop/FSDS/Assignments/Covid report.pdf','rb') as covid:\n",
    "    pdfreader=pdf.PdfFileReader(covid)\n",
    "    ## PDF writer\n",
    "    pdfwriter=pdf.PdfFileWriter()\n",
    "    \n",
    "    for i in range(pdfreader.numPages):\n",
    "        pageobj=pdfreader.getPage(i)\n",
    "        pageobj.rotateClockwise(270)\n",
    "        \n",
    "        pdfwriter.addPage(pageobj)\n",
    "    \n",
    "    with open('/Users/vikaslakka/Desktop/FSDS/Assignments/duplicate Covid report.pdf','wb') as covid:\n",
    "        pdfwriter.write(covid)\n",
    "\n"
   ]
  },
  {
   "cell_type": "code",
   "execution_count": null,
   "id": "c740551c",
   "metadata": {},
   "outputs": [],
   "source": []
  }
 ],
 "metadata": {
  "kernelspec": {
   "display_name": "Python 3",
   "language": "python",
   "name": "python3"
  },
  "language_info": {
   "codemirror_mode": {
    "name": "ipython",
    "version": 3
   },
   "file_extension": ".py",
   "mimetype": "text/x-python",
   "name": "python",
   "nbconvert_exporter": "python",
   "pygments_lexer": "ipython3",
   "version": "3.8.8"
  }
 },
 "nbformat": 4,
 "nbformat_minor": 5
}

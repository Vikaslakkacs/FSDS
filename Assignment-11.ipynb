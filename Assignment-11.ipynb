{
 "cells": [
  {
   "cell_type": "raw",
   "id": "bb72ab04",
   "metadata": {},
   "source": [
    "1. Create an assert statement that throws an AssertionError if the variable spam is a negative\n",
    "integer.\n",
    "Ans: "
   ]
  },
  {
   "cell_type": "code",
   "execution_count": null,
   "id": "dfe79c2f",
   "metadata": {},
   "outputs": [],
   "source": [
    "def spam_variablecheck(spam):\n",
    "    assert spam>=0, \"Interger is negative, please enter positive integer\"\n",
    "    print(spam)"
   ]
  },
  {
   "cell_type": "code",
   "execution_count": null,
   "id": "2ee28239",
   "metadata": {},
   "outputs": [],
   "source": [
    "spam_variablecheck(-4)"
   ]
  },
  {
   "cell_type": "raw",
   "id": "36692676",
   "metadata": {},
   "source": [
    "\n",
    "2. Write an assert statement that triggers an AssertionError if the variables eggs and bacon contain\n",
    "strings that are the same as each other, even if their cases are different (that is, 'hello'; and &#39;hello&#39; are\n",
    "considered the same, and 'goodbye' and 'GOODbye' are also considered the same)."
   ]
  },
  {
   "cell_type": "code",
   "execution_count": null,
   "id": "58af13ee",
   "metadata": {},
   "outputs": [],
   "source": [
    "def eggs_and_bacons(eggs:str, bacons:str):\n",
    "    assert eggs.lower != bacons.lower, \"Both contains same value\"\n",
    "    print(eggs, bacons)"
   ]
  },
  {
   "cell_type": "code",
   "execution_count": null,
   "id": "6b700467",
   "metadata": {},
   "outputs": [],
   "source": [
    "eggs_and_bacons('5 eggs', '3 bacons')"
   ]
  },
  {
   "cell_type": "raw",
   "id": "200d57c6",
   "metadata": {},
   "source": [
    "\n",
    "3. Create an assert statement that throws an AssertionError every time.\n"
   ]
  },
  {
   "cell_type": "code",
   "execution_count": null,
   "id": "6087d3ee",
   "metadata": {},
   "outputs": [],
   "source": [
    "def asert_error(string):\n",
    "    assert False, \"Assert statement throws fasle everytime\"\n",
    "    print(string)"
   ]
  },
  {
   "cell_type": "code",
   "execution_count": null,
   "id": "cac0c15c",
   "metadata": {},
   "outputs": [],
   "source": [
    "asert_error('hi')"
   ]
  },
  {
   "cell_type": "raw",
   "id": "030b85e9",
   "metadata": {},
   "source": [
    "4. What are the two lines that must be present in your software in order to call logging.debug()?\n",
    "Ans: import logging\n",
    "logging.BasicConfig(filename, level=logging.DEBUG, format)"
   ]
  },
  {
   "cell_type": "raw",
   "id": "3990181d",
   "metadata": {},
   "source": [
    "\n",
    "5. What are the two lines that your program must have in order to have logging.debug() send a\n",
    "logging message to a file named programLog.txt?\n",
    "\n",
    "Ans: import logging\n",
    "logging.BasicConfig(filename='programlog.txt', level=logging.DEBUG, format)\n",
    "logging.debug(\"hello\")"
   ]
  },
  {
   "cell_type": "raw",
   "id": "fffb2bd3",
   "metadata": {},
   "source": [
    "\n",
    "6. What are the five levels of logging?\n",
    "Ans:\n",
    "logging.DEBUG\n",
    "logging.INFO\n",
    "logging.Warning\n",
    "logging.Error\n",
    "logging.CRITICAL"
   ]
  },
  {
   "cell_type": "raw",
   "id": "193a863b",
   "metadata": {},
   "source": [
    "7. What line of code would you add to your software to disable all logging messages?\n",
    "Ans: logging.disable(\"CRITICAL\")"
   ]
  },
  {
   "cell_type": "raw",
   "id": "76da549b",
   "metadata": {},
   "source": [
    "8.Why is using logging messages better than using print() to display the same message?\n",
    "Ans: using logging we can track the time and information in log file and can be viewed whenever we need."
   ]
  },
  {
   "cell_type": "raw",
   "id": "b9773a3f",
   "metadata": {},
   "source": [
    "9. What are the differences between the Step Over, Step In, and Step Out buttons in the debugger?\n",
    "Ans: Step OVer: When next is selected: continues to next step but in same function\n",
    "Step in: When Step is selected: Continue to next line and if another function is called it will step into another function\n",
    "Step out: "
   ]
  },
  {
   "cell_type": "raw",
   "id": "81abb6ee",
   "metadata": {},
   "source": [
    "\n",
    "10.After you click Continue, when will the debugger stop ?\n",
    "Ans: Debugger will stop immediately"
   ]
  },
  {
   "cell_type": "raw",
   "id": "12988164",
   "metadata": {},
   "source": [
    "\n",
    "11. What is the concept of a breakpoint?\n",
    "Ans: Breakpoint is same as pdb module, it is being impletement in python 3.7 or further editions."
   ]
  },
  {
   "cell_type": "raw",
   "id": "e9b6599f",
   "metadata": {},
   "source": []
  },
  {
   "cell_type": "raw",
   "id": "fb401623",
   "metadata": {},
   "source": []
  }
 ],
 "metadata": {
  "kernelspec": {
   "display_name": "Python 3",
   "language": "python",
   "name": "python3"
  },
  "language_info": {
   "codemirror_mode": {
    "name": "ipython",
    "version": 3
   },
   "file_extension": ".py",
   "mimetype": "text/x-python",
   "name": "python",
   "nbconvert_exporter": "python",
   "pygments_lexer": "ipython3",
   "version": "3.8.8"
  }
 },
 "nbformat": 4,
 "nbformat_minor": 5
}

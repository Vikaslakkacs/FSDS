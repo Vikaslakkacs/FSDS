{
 "cells": [
  {
   "cell_type": "raw",
   "id": "612d3b6b",
   "metadata": {},
   "source": [
    "1. Why are functions advantageous to have in your programs?\n",
    "\n",
    "Ans: We do not need to re-write the same logic again and again. Functions are good placeholders of logic to store"
   ]
  },
  {
   "cell_type": "raw",
   "id": "66a7131e",
   "metadata": {},
   "source": [
    "2. When does the code in a function run: when it's specified or when it's called?\n",
    "\n",
    "Ans: When it is called"
   ]
  },
  {
   "cell_type": "raw",
   "id": "25808e13",
   "metadata": {},
   "source": [
    "3. What statement creates a function?:\n",
    "\n",
    "Ans: def func()"
   ]
  },
  {
   "cell_type": "raw",
   "id": "79f15a90",
   "metadata": {},
   "source": [
    "4. What is the difference between a function and a function call?:\n",
    "\n",
    "Ans: Function: in fnuction we write the logic or procedure \n",
    "Function call: To achieve the logic which we created, we have to call function which is function call"
   ]
  },
  {
   "cell_type": "raw",
   "id": "c5d5ea80",
   "metadata": {},
   "source": [
    "5. How many global scopes are there in a Python program? How many local scopes?\n",
    "\n",
    "Ans: 1 global scope and 1 local scope"
   ]
  },
  {
   "cell_type": "raw",
   "id": "d14b0633",
   "metadata": {},
   "source": [
    "6. What happens to variables in a local scope when the function call returns?\n",
    "\n",
    "Ans: It is valid till the function and after the function call it self. We have to save function call returned value to a variable otherwise. We cannot access variable which is defined inside function with local scope.\n",
    "\n",
    "variables will expire after function call returns"
   ]
  },
  {
   "cell_type": "raw",
   "id": "0dbe43a5",
   "metadata": {},
   "source": [
    "7. What is the concept of a return value? Is it possible to have a return value in an expression?\n",
    "\n",
    "Ans: return value is a result of either function call or expression or any other statement\n",
    "\n",
    "Yes, we can have return value in an expression"
   ]
  },
  {
   "cell_type": "raw",
   "id": "9801b9bf",
   "metadata": {},
   "source": [
    "8. If a function does not have a return statement, what is the return value of a call to that function?\n",
    "\n",
    "Ans: None"
   ]
  },
  {
   "cell_type": "raw",
   "id": "a526a713",
   "metadata": {},
   "source": [
    "9. How do you make a function variable refer to the global variable?\n",
    "\n",
    "Ans: we can declare global X inside function"
   ]
  },
  {
   "cell_type": "raw",
   "id": "75842199",
   "metadata": {},
   "source": [
    "10. What is the data type of None?\n",
    "\n",
    "Ans: NoneType"
   ]
  },
  {
   "cell_type": "raw",
   "id": "85eb3e13",
   "metadata": {},
   "source": [
    "11. What does the sentence import areallyourpetsnamederic do?\n",
    "Ans:\n",
    "It will import all the package and functions inside the package."
   ]
  },
  {
   "cell_type": "raw",
   "id": "399bfad9",
   "metadata": {},
   "source": [
    "12. If you had a bacon() feature in a spam module, what would you call it after importing spam?\n",
    "\n",
    "Ans: spam.bacon()"
   ]
  },
  {
   "cell_type": "raw",
   "id": "b4acc9e1",
   "metadata": {},
   "source": [
    "13. What can you do to save a programme from crashing if it encounters an error?\n",
    "\n",
    "Ans:Use try catch execption"
   ]
  },
  {
   "cell_type": "raw",
   "id": "e3cc0a81",
   "metadata": {},
   "source": [
    "14. What is the purpose of the try clause? What is the purpose of the except clause?\n",
    "\n",
    "Ans: \n",
    "We will write the logic inside try which we are sure that at some scenarios we will get error.\n",
    "Except: It will tell the program what to run when an error is occured"
   ]
  }
 ],
 "metadata": {
  "kernelspec": {
   "display_name": "Python 3",
   "language": "python",
   "name": "python3"
  },
  "language_info": {
   "codemirror_mode": {
    "name": "ipython",
    "version": 3
   },
   "file_extension": ".py",
   "mimetype": "text/x-python",
   "name": "python",
   "nbconvert_exporter": "python",
   "pygments_lexer": "ipython3",
   "version": "3.8.8"
  }
 },
 "nbformat": 4,
 "nbformat_minor": 5
}

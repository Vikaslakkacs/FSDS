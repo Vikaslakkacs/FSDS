{
 "cells": [
  {
   "cell_type": "raw",
   "id": "92e419c7",
   "metadata": {},
   "source": [
    "\n",
    "\n",
    "\n",
    "\n",
    "\n",
    "\n",
    "\n",
    "\n",
    "\n",
    "\n",
    "\n",
    "\n"
   ]
  },
  {
   "cell_type": "raw",
   "id": "aaf4bd45",
   "metadata": {},
   "source": [
    "1.What are the two values of the Boolean data type? How do you write them?\n",
    "Ans: True and False"
   ]
  },
  {
   "cell_type": "raw",
   "id": "9a696a76",
   "metadata": {},
   "source": [
    "2. What are the three different types of Boolean operators?\n",
    "Ans: And, Or, Not"
   ]
  },
  {
   "cell_type": "raw",
   "id": "5b5bdda4",
   "metadata": {},
   "source": [
    "3. Make a list of each Boolean operator's truth tables (i.e. every possible combination of Boolean values for the operator and what it evaluate ).\n",
    "\n",
    "Ans: True And True = True\n",
    "True And False = False\n",
    "True Or True = True\n",
    "True or False = True\n",
    "Not True= False\n",
    "Not False= True"
   ]
  },
  {
   "cell_type": "raw",
   "id": "a3ace998",
   "metadata": {},
   "source": [
    "4. What are the values of the following expressions?\n",
    "(5 > 4) and (3 == 5) = False\n",
    "not (5 > 4) = False\n",
    "(5 > 4) or (3 == 5) = True\n",
    "not ((5 > 4) or (3 == 5)) = False\n",
    "(True and True) and (True == False) = False\n",
    "(not False) or (not True) = True\n",
    "\n"
   ]
  },
  {
   "cell_type": "raw",
   "id": "c8a0f86c",
   "metadata": {},
   "source": [
    "5. What are the six comparison operators?\n",
    "Ans: \n",
    ">\n",
    "<\n",
    ">=\n",
    "<=\n",
    "!=\n",
    "="
   ]
  },
  {
   "cell_type": "raw",
   "id": "3b79fc7c",
   "metadata": {},
   "source": [
    "6. How do you tell the difference between the equal to and assignment operators?Describe a condition and when you would use one.\n",
    "Ans: Assignment operator has single = sign\n",
    "Equal to operator has == sign"
   ]
  },
  {
   "cell_type": "raw",
   "id": "fcd3422f",
   "metadata": {},
   "source": [
    "\n",
    "7. Identify the three blocks in this code:\n",
    "spam = 0\n",
    "if spam == 10:\n",
    "print('eggs')\n",
    "if spam > 5:\n",
    "print('bacon')\n",
    "else:\n",
    "print('ham')\n",
    "print('spam')\n",
    "print('spam')\n",
    "\n",
    "Ans:\n",
    "ham\n",
    "spam\n",
    "spam"
   ]
  },
  {
   "cell_type": "raw",
   "id": "f369054c",
   "metadata": {},
   "source": [
    "8. Write code that prints Hello if 1 is stored in spam, prints Howdy if 2 is stored in spam, and prints Greetings! if anything else is stored in spam.\n",
    "if spam==1:\n",
    "print('Hello')\n",
    "elif spam==2:\n",
    "print('Howdy')\n",
    "else:\n",
    "print('Greetings')"
   ]
  },
  {
   "cell_type": "raw",
   "id": "17d9175f",
   "metadata": {},
   "source": [
    "9.If your programme is stuck in an endless loop, what keys you’ll press?\n",
    "Ans: Escape"
   ]
  },
  {
   "cell_type": "raw",
   "id": "3ccd556c",
   "metadata": {},
   "source": [
    "10. How can you tell the difference between break and continue?\n",
    "Ans:\n",
    "Break: Break will break the execution of the further code after break and also the loop which it is present in.\n",
    "continue: Continue will break the execution of the further code after Continue and starts next loop."
   ]
  },
  {
   "cell_type": "raw",
   "id": "da6e12e0",
   "metadata": {},
   "source": [
    "11. In a for loop, what is the difference between range(10), range(0, 10), and range(0, 10, 1)?:\n",
    "Ans:\n",
    "Range(10)= generates 0-9 values\n",
    "range(0,10)= generates values starting from 0 to 9\n",
    "range(0,10,1)= generat values starting from 0 to 9 with 1 number skip"
   ]
  },
  {
   "cell_type": "raw",
   "id": "bb29f25e",
   "metadata": {},
   "source": [
    "12. Write a short program that prints the numbers 1 to 10 using a for loop. Then write an equivalent program that prints the numbers 1 to 10 using a while loop.\n",
    "Ans:\n",
    "1.\n",
    "for i in range(1, 11):\n",
    "print(i)\n",
    "\n",
    "\n",
    "2.\n",
    "i=1\n",
    "while True:\n",
    "if i > 10:\n",
    "    break\n",
    "else:\n",
    "    print(i)\n",
    "\n",
    "i+=1"
   ]
  },
  {
   "cell_type": "raw",
   "id": "8f5c7d9c",
   "metadata": {},
   "source": [
    "13. If you had a function named bacon() inside a module named spam, how would you call it after importing spam?\n",
    "Ans: spam.bacon()"
   ]
  },
  {
   "cell_type": "code",
   "execution_count": null,
   "id": "a78848a2",
   "metadata": {},
   "outputs": [],
   "source": []
  }
 ],
 "metadata": {
  "kernelspec": {
   "display_name": "Python 3",
   "language": "python",
   "name": "python3"
  },
  "language_info": {
   "codemirror_mode": {
    "name": "ipython",
    "version": 3
   },
   "file_extension": ".py",
   "mimetype": "text/x-python",
   "name": "python",
   "nbconvert_exporter": "python",
   "pygments_lexer": "ipython3",
   "version": "3.8.8"
  }
 },
 "nbformat": 4,
 "nbformat_minor": 5
}

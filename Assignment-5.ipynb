{
 "cells": [
  {
   "cell_type": "code",
   "execution_count": 7,
   "id": "c9f19ea6",
   "metadata": {},
   "outputs": [],
   "source": [
    "dic={'bar': 200, 'cat':100}"
   ]
  },
  {
   "cell_type": "code",
   "execution_count": 14,
   "id": "3e859976",
   "metadata": {},
   "outputs": [
    {
     "data": {
      "text/plain": [
       "dict_values([200, 100])"
      ]
     },
     "execution_count": 14,
     "metadata": {},
     "output_type": "execute_result"
    }
   ],
   "source": [
    "dic.values()"
   ]
  },
  {
   "cell_type": "code",
   "execution_count": 15,
   "id": "45faf3d8",
   "metadata": {},
   "outputs": [],
   "source": [
    "dic['foo']='tom'"
   ]
  },
  {
   "cell_type": "code",
   "execution_count": 16,
   "id": "8c1572b6",
   "metadata": {},
   "outputs": [
    {
     "data": {
      "text/plain": [
       "{'bar': 200, 'cat': 100, 'foo': 'tom'}"
      ]
     },
     "execution_count": 16,
     "metadata": {},
     "output_type": "execute_result"
    }
   ],
   "source": [
    "dic"
   ]
  },
  {
   "cell_type": "code",
   "execution_count": 21,
   "id": "61466e6c",
   "metadata": {},
   "outputs": [],
   "source": [
    "dic.update({'color': 'black'})"
   ]
  },
  {
   "cell_type": "code",
   "execution_count": 22,
   "id": "a27a396b",
   "metadata": {},
   "outputs": [
    {
     "data": {
      "text/plain": [
       "{'bar': 200, 'cat': 100, 'foo': 'tom', 'color': 'black'}"
      ]
     },
     "execution_count": 22,
     "metadata": {},
     "output_type": "execute_result"
    }
   ],
   "source": [
    "dic"
   ]
  },
  {
   "cell_type": "code",
   "execution_count": 23,
   "id": "d5e571f6",
   "metadata": {},
   "outputs": [],
   "source": [
    "dic.update({'color':'brown'})"
   ]
  },
  {
   "cell_type": "code",
   "execution_count": 24,
   "id": "a405e1f9",
   "metadata": {},
   "outputs": [
    {
     "data": {
      "text/plain": [
       "{'bar': 200, 'cat': 100, 'foo': 'tom', 'color': 'brown'}"
      ]
     },
     "execution_count": 24,
     "metadata": {},
     "output_type": "execute_result"
    }
   ],
   "source": [
    "dic"
   ]
  },
  {
   "cell_type": "code",
   "execution_count": 25,
   "id": "8ba70262",
   "metadata": {},
   "outputs": [],
   "source": [
    "from pprint import pprint"
   ]
  },
  {
   "cell_type": "code",
   "execution_count": 28,
   "id": "a3d7c4e6",
   "metadata": {},
   "outputs": [
    {
     "name": "stdout",
     "output_type": "stream",
     "text": [
      "{'bar': 200, 'cat': 100, 'color': 'brown', 'foo': 'tom'}\n"
     ]
    }
   ],
   "source": [
    "pprint(dic)"
   ]
  },
  {
   "cell_type": "raw",
   "id": "1e151d28",
   "metadata": {},
   "source": [
    "1. What does an empty dictionary's code look like?\n",
    "Ans:\n",
    "dic={}"
   ]
  },
  {
   "cell_type": "raw",
   "id": "a03d6030",
   "metadata": {},
   "source": [
    "2. What is the value of a dictionary value with the key 'foo' and the value 42?\n",
    "Ans:\n",
    "42"
   ]
  },
  {
   "cell_type": "raw",
   "id": "57370d06",
   "metadata": {},
   "source": [
    "3. What is the most significant distinction between a dictionary and a list?\n",
    "Ans:\n",
    "We can assign keys to the values in dictionary, but in list we cannot"
   ]
  },
  {
   "cell_type": "raw",
   "id": "3cc6ff12",
   "metadata": {},
   "source": [
    "4. What happens if you try to access spam['foo'] if spam is {'bar': 100}?\n",
    "ans:\n",
    "We will get key error because key 'foo' does not exists in dictionary"
   ]
  },
  {
   "cell_type": "raw",
   "id": "be72e09c",
   "metadata": {},
   "source": [
    "\n",
    "5. If a dictionary is stored in spam, what is the difference between the expressions 'cat' in spam and 'cat' in spam.keys()?\n",
    "Ans:\n",
    "'cat' in spam gives the value for 'cat' in dictionary\n",
    "'cat' in spam.keys() is the key in dictionary from the list of keys."
   ]
  },
  {
   "cell_type": "raw",
   "id": "21a92b1e",
   "metadata": {},
   "source": [
    "\n",
    "6. If a dictionary is stored in spam, what is the difference between the expressions 'cat' in spam and 'cat' in spam.values()?\n",
    "Ans:\n",
    "'cat' in spam gives the value for 'cat' in dictionary\n",
    "'cat' in spam.values() is the value in dictionary from the list of values."
   ]
  },
  {
   "cell_type": "raw",
   "id": "e9e4276d",
   "metadata": {},
   "source": [
    "\n",
    "7. What is a shortcut for the following code?\n",
    "if 'color' not in spam:\n",
    "spam['color'] = 'black'\n",
    "Ans:\n",
    "dic.update({'color':'black'})"
   ]
  },
  {
   "cell_type": "raw",
   "id": "e69018c7",
   "metadata": {},
   "source": [
    "\n",
    "8. How do you \"pretty print\" dictionary values using which module and function?\n",
    "Ans:\n",
    "from pprint import pprint"
   ]
  },
  {
   "cell_type": "raw",
   "id": "bcc447c3",
   "metadata": {},
   "source": []
  }
 ],
 "metadata": {
  "kernelspec": {
   "display_name": "Python 3",
   "language": "python",
   "name": "python3"
  },
  "language_info": {
   "codemirror_mode": {
    "name": "ipython",
    "version": 3
   },
   "file_extension": ".py",
   "mimetype": "text/x-python",
   "name": "python",
   "nbconvert_exporter": "python",
   "pygments_lexer": "ipython3",
   "version": "3.8.8"
  }
 },
 "nbformat": 4,
 "nbformat_minor": 5
}

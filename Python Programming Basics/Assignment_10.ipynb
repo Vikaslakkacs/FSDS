{
 "cells": [
  {
   "cell_type": "raw",
   "id": "1559bbf4",
   "metadata": {},
   "source": [
    "1. Write a Python program to find sum of elements in list?\n",
    "Ans:\n",
    "a=[1,2,3,4,5]\n",
    "sum(a)"
   ]
  },
  {
   "cell_type": "raw",
   "id": "fc41ca66",
   "metadata": {},
   "source": [
    "2. Write a Python program to Multiply all numbers in the list?\n",
    "Ans:\n",
    "import functools\n",
    "a=[1,2,3,4]\n",
    "functools.reduce(lambda a, b:a*b, a)"
   ]
  },
  {
   "cell_type": "raw",
   "id": "dd730b0a",
   "metadata": {},
   "source": [
    "3. Write a Python program to find smallest number in a list?\n",
    "Ans:\n",
    "min(a)"
   ]
  },
  {
   "cell_type": "raw",
   "id": "a3cbcf4f",
   "metadata": {},
   "source": [
    "4. Write a Python program to find largest number in a list?\n",
    "ans:\n",
    "max(a)"
   ]
  },
  {
   "cell_type": "raw",
   "id": "bb32f3e8",
   "metadata": {},
   "source": [
    "5. Write a Python program to find second largest number in a list?\n",
    "Ans:\n",
    "sorted(a)[-2]"
   ]
  },
  {
   "cell_type": "raw",
   "id": "784af068",
   "metadata": {},
   "source": [
    "6. Write a Python program to find N largest elements from a list?\n",
    "Ans:\n",
    "sorted(a)[-n:]"
   ]
  },
  {
   "cell_type": "raw",
   "id": "79f89bf7",
   "metadata": {},
   "source": [
    "7. Write a Python program to print even numbers in a list?\n",
    "ans:\n",
    "a[1::2]"
   ]
  },
  {
   "cell_type": "raw",
   "id": "6b55907a",
   "metadata": {},
   "source": [
    "8. Write a Python program to print odd numbers in a List?\n",
    "Ans:\n",
    "a[::2]"
   ]
  },
  {
   "cell_type": "raw",
   "id": "0d86ebbe",
   "metadata": {},
   "source": [
    "9. Write a Python program to Remove empty List from List?\n",
    "Ans:\n",
    "[i for i in a if i!=[]]"
   ]
  },
  {
   "cell_type": "raw",
   "id": "de20643b",
   "metadata": {},
   "source": [
    "10. Write a Python program to Cloning or Copying a list?\n",
    "Ans:\n",
    "a=[1,2,3,4]\n",
    "b= a.copy()"
   ]
  },
  {
   "cell_type": "raw",
   "id": "ce7c7b3a",
   "metadata": {},
   "source": [
    "11. Write a Python program to Count occurrences of an element in a list?\n",
    "Ans:\n",
    "list.count(element)"
   ]
  },
  {
   "cell_type": "raw",
   "id": "8d2c2f6f",
   "metadata": {},
   "source": []
  },
  {
   "cell_type": "code",
   "execution_count": null,
   "id": "2bc6ccb1",
   "metadata": {},
   "outputs": [],
   "source": []
  }
 ],
 "metadata": {
  "kernelspec": {
   "display_name": "Python 3",
   "language": "python",
   "name": "python3"
  },
  "language_info": {
   "codemirror_mode": {
    "name": "ipython",
    "version": 3
   },
   "file_extension": ".py",
   "mimetype": "text/x-python",
   "name": "python",
   "nbconvert_exporter": "python",
   "pygments_lexer": "ipython3",
   "version": "3.8.8"
  }
 },
 "nbformat": 4,
 "nbformat_minor": 5
}

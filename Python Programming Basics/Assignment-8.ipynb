{
 "cells": [
  {
   "cell_type": "raw",
   "id": "a421b124",
   "metadata": {},
   "source": [
    "1. Write a Python Program to Add Two Matrices?\n",
    "Ans:\n",
    "import numpy as np\n",
    "a=np.array([[1,2],[3,4]])\n",
    "b= np.array([[5,6], [7,8]])\n",
    "np.add(a,b)"
   ]
  },
  {
   "cell_type": "raw",
   "id": "1bafedce",
   "metadata": {},
   "source": [
    "2. Write a Python Program to Multiply Two Matrices?\n",
    "Ans:\n",
    "import numpy as np\n",
    "a=np.array([[1,2],[3,4]])\n",
    "b= np.array([[5,6], [7,8]])\n",
    "np.multiply(a,b)"
   ]
  },
  {
   "cell_type": "raw",
   "id": "dd3a6619",
   "metadata": {},
   "source": [
    "3. Write a Python Program to Transpose a Matrix?\n",
    "Ans:\n",
    "import numpy as np\n",
    "a=np.array([[1,2],[3,4]])\n",
    "\n",
    "np.transpose(a)"
   ]
  },
  {
   "cell_type": "raw",
   "id": "b2073b20",
   "metadata": {},
   "source": [
    "4. Write a Python Program to Sort Words in Alphabetic Order?\n",
    "Ans:\n",
    "def sorted_word(inputstring:str):\n",
    "    sort_dic=dict()\n",
    "    result=''\n",
    "    for word in inputstring.split(sep=' '):\n",
    "        #print(word[0])\n",
    "        sort_dic[ord(word[0].lower())]=word\n",
    "    for key in sorted(sort_dic.keys()):\n",
    "        #print(key)\n",
    "        result+=' '+sort_dic[key]\n",
    "    return result.lstrip()\n",
    "sorted_word(\"Vikas is my name Hello!\")"
   ]
  },
  {
   "cell_type": "raw",
   "id": "ee8deb80",
   "metadata": {},
   "source": [
    "5. Write a Python Program to Remove Punctuation From a String?\n",
    "Ans:\n",
    "text.replace(\"'\",'').replace('\"','')"
   ]
  },
  {
   "cell_type": "code",
   "execution_count": null,
   "id": "ae6dbb5b",
   "metadata": {},
   "outputs": [],
   "source": []
  }
 ],
 "metadata": {
  "kernelspec": {
   "display_name": "Python 3",
   "language": "python",
   "name": "python3"
  },
  "language_info": {
   "codemirror_mode": {
    "name": "ipython",
    "version": 3
   },
   "file_extension": ".py",
   "mimetype": "text/x-python",
   "name": "python",
   "nbconvert_exporter": "python",
   "pygments_lexer": "ipython3",
   "version": "3.8.8"
  }
 },
 "nbformat": 4,
 "nbformat_minor": 5
}

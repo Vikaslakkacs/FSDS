{
 "cells": [
  {
   "cell_type": "code",
   "execution_count": null,
   "id": "9505b909",
   "metadata": {},
   "outputs": [],
   "source": [
    "1. Write a Python program to print 'Hello Python'?\n",
    "Ans: print('Hello Python')"
   ]
  },
  {
   "cell_type": "code",
   "execution_count": null,
   "id": "a4e30d69",
   "metadata": {},
   "outputs": [],
   "source": [
    "2. Write a Python program to do arithmetical operations addition and division.?\n",
    "Ans: c= a+b\n",
    "    c= a/b"
   ]
  },
  {
   "cell_type": "code",
   "execution_count": null,
   "id": "70282638",
   "metadata": {},
   "outputs": [],
   "source": [
    "3. Write a Python program to find the area of a triangle?\n",
    "Ans: c=(height*breadth)/2"
   ]
  },
  {
   "cell_type": "code",
   "execution_count": null,
   "id": "d59031dd",
   "metadata": {},
   "outputs": [],
   "source": [
    "4. Write a Python program to swap two variables?\n",
    "Ans:\n",
    "    def swap_numbers(a,b):\n",
    "    c=a\n",
    "    a=b\n",
    "    b=c\n",
    "    "
   ]
  },
  {
   "cell_type": "code",
   "execution_count": null,
   "id": "7ff4b8da",
   "metadata": {},
   "outputs": [],
   "source": [
    "5. Write a Python program to generate a random number?\n",
    "ans: import random\n",
    "random.randint(3,30)"
   ]
  },
  {
   "cell_type": "code",
   "execution_count": null,
   "id": "c07f1128",
   "metadata": {},
   "outputs": [],
   "source": []
  },
  {
   "cell_type": "code",
   "execution_count": null,
   "id": "5e12dce6",
   "metadata": {},
   "outputs": [],
   "source": []
  }
 ],
 "metadata": {
  "kernelspec": {
   "display_name": "Python 3",
   "language": "python",
   "name": "python3"
  },
  "language_info": {
   "codemirror_mode": {
    "name": "ipython",
    "version": 3
   },
   "file_extension": ".py",
   "mimetype": "text/x-python",
   "name": "python",
   "nbconvert_exporter": "python",
   "pygments_lexer": "ipython3",
   "version": "3.8.8"
  }
 },
 "nbformat": 4,
 "nbformat_minor": 5
}

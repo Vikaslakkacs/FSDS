{
 "cells": [
  {
   "cell_type": "raw",
   "id": "f799477a",
   "metadata": {},
   "source": [
    "1. Write a Python Program to Find LCM?\n",
    "Ans:\n",
    "def LCM_bymultiples(num1:int, num2:int)->int:\n",
    "    if num1>num2:\n",
    "        x,y=num2,num1\n",
    "    else:\n",
    "        x,y=num1,num2\n",
    "    \n",
    "    ## findingthe multiples of small number till 20 and large number till 10 and creating a set for individual\n",
    "    ## Multiplying the large number with 20 and then dividing the small number with results\n",
    "    ### gives how many times we need to multiply the small number for multiples, then we will add +10\n",
    "    ### to make sure all the multiples are considered.\n",
    "    small_multi=int((y*20)/x)+10\n",
    "    \n",
    "    x_set=set([x*i for i in range(1,small_multi+1)])\n",
    "    y_set= set([y*i for i in range(1,21)])\n",
    "    \n",
    "    if len(x_set.intersection(y_set))>0:\n",
    "        for item in x_set.intersection(y_set):\n",
    "            \n",
    "            return item\n",
    "    else:\n",
    "        return None"
   ]
  },
  {
   "cell_type": "raw",
   "id": "79bae0cd",
   "metadata": {},
   "source": [
    "2. Write a Python Program to Find HCF?\n",
    "Ans:\n",
    "def factors(num:int)->list:\n",
    "    factors_list=[]\n",
    "    for i in range(2,num//2+1):\n",
    "        if num%i==0:\n",
    "            factors_list.append(i)\n",
    "    return factors_list\n",
    "\n",
    "def hcf(num1:int, num2:int)->int:\n",
    "    ## Getting the factors of numbers\n",
    "    num1_factors= factors(num1)\n",
    "    num2_factors= factors(num2)\n",
    "    ### Getting Hcf Common largest number from the list\n",
    "    num1_set= set(num1_factors)\n",
    "    num2_set= set(num2_factors)\n",
    "    intersection=sorted(num1_set.intersection(num2_set), reverse=True)\n",
    "    #print(intersection)\n",
    "    if len(intersection)>0:\n",
    "        return intersection[0]\n",
    "    else:\n",
    "        return None"
   ]
  },
  {
   "cell_type": "raw",
   "id": "39c0d169",
   "metadata": {},
   "source": [
    "3. Write a Python Program to Convert Decimal to Binary, Octal and Hexadecimal?\n",
    "Ans:\n",
    "bin(x)\n",
    "oct(x)\n",
    "hex(x)"
   ]
  },
  {
   "cell_type": "raw",
   "id": "af11df66",
   "metadata": {},
   "source": [
    "4. Write a Python Program To Find ASCII value of a character?\n",
    "Ans:\n",
    "ord(x)"
   ]
  },
  {
   "cell_type": "raw",
   "id": "0c5fc39f",
   "metadata": {},
   "source": [
    "5. Write a Python Program to Make a Simple Calculator with 4 basic mathematical operations?\n",
    "Ans:\n",
    "def calculator(operation, num1=0, num2=0):\n",
    "    if operation=='+':\n",
    "        return num1 + num2\n",
    "    elif operation=='-':\n",
    "        return num1 - num2\n",
    "    \n",
    "    elif operation=='*':\n",
    "        return num1 * num2\n",
    "    \n",
    "    elif operation=='/':\n",
    "        return num1 / num2"
   ]
  },
  {
   "cell_type": "code",
   "execution_count": null,
   "id": "a9010fd6",
   "metadata": {},
   "outputs": [],
   "source": []
  }
 ],
 "metadata": {
  "kernelspec": {
   "display_name": "Python 3",
   "language": "python",
   "name": "python3"
  },
  "language_info": {
   "codemirror_mode": {
    "name": "ipython",
    "version": 3
   },
   "file_extension": ".py",
   "mimetype": "text/x-python",
   "name": "python",
   "nbconvert_exporter": "python",
   "pygments_lexer": "ipython3",
   "version": "3.8.8"
  }
 },
 "nbformat": 4,
 "nbformat_minor": 5
}

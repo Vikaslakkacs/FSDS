{
 "cells": [
  {
   "cell_type": "raw",
   "id": "44f2e525",
   "metadata": {},
   "source": [
    "1. Write a Python Program to Find the Factorial of a Number?\n",
    "Ans:\n",
    "def factorial(num:int) ->int:\n",
    "    fact=1\n",
    "    for i in range(1, num+1):\n",
    "        fact *=i\n",
    "    return fact"
   ]
  },
  {
   "cell_type": "raw",
   "id": "fe8ac802",
   "metadata": {},
   "source": [
    "2. Write a Python Program to Display the multiplication Table?\n",
    "Ans:\n",
    "def multiplication_table(tablenum:int):\n",
    "    for i in range(11):\n",
    "        print(tablenum,\"X\", i,\"=\", tablenum * i,sep=' ')"
   ]
  },
  {
   "cell_type": "raw",
   "id": "10da4a8c",
   "metadata": {},
   "source": [
    "3. Write a Python Program to Print the Fibonacci sequence?\n",
    "Ans: \n",
    "def fibanacci(fibnum:int) -> list:\n",
    "    initnum=0\n",
    "    j=1\n",
    "    for i in range(fibnum):\n",
    "        result= initnum + j\n",
    "        print(result)\n",
    "        initnum=j\n",
    "        j= result\n",
    "    "
   ]
  },
  {
   "cell_type": "raw",
   "id": "5180f6e6",
   "metadata": {},
   "source": [
    "4. Write a Python Program to Check Armstrong Number?\n",
    "Ans: \n",
    "def Armstrong_num(num:int) -> str:\n",
    "    try:\n",
    "        seperate_list=[]\n",
    "        split_num= num\n",
    "        while True:\n",
    "            seperate_list.append(split_num%10)\n",
    "            split_num= int(split_num/10)\n",
    "            if split_num <1:\n",
    "                break\n",
    "        ## finding cubes of all the numbers in list\n",
    "        sum_num=0\n",
    "        for i in seperate_list:\n",
    "            sum_num += i**3\n",
    "        #print(seperate_list[::-1], sum_num, num)\n",
    "        if sum_num == num:\n",
    "            print(\"Armstrong\")\n",
    "        else:\n",
    "            print(\"Not an Armstrong\")\n",
    "    except Exception as e:\n",
    "        print(e)"
   ]
  },
  {
   "cell_type": "raw",
   "id": "62520dd7",
   "metadata": {},
   "source": [
    "5. Write a Python Program to Find Armstrong Number in an Interval?\n",
    "Ans:\n",
    "def Armstrong_num(num:int) -> str:\n",
    "    try:\n",
    "        seperate_list=[]\n",
    "        split_num= num\n",
    "        while True:\n",
    "            seperate_list.append(split_num%10)\n",
    "            split_num= int(split_num/10)\n",
    "            if split_num <1:\n",
    "                break\n",
    "        ## finding cubes of all the numbers in list\n",
    "        sum_num=0\n",
    "        for i in seperate_list:\n",
    "            sum_num += i**3\n",
    "        #print(seperate_list[::-1], sum_num, num)\n",
    "        if sum_num == num:\n",
    "            return \"Armstrong\"\n",
    "        else:\n",
    "            return \"Not an Armstrong\"\n",
    "    except Exception as e:\n",
    "        print(e)\n",
    "\n",
    "if __name__=='__main__':\n",
    "    list_arm=[]\n",
    "    for i in range(120,155):\n",
    "        #print(i)\n",
    "        if Armstrong_num(i)=='Armstrong':\n",
    "            list_arm.append(i)"
   ]
  },
  {
   "cell_type": "raw",
   "id": "6af4cac2",
   "metadata": {},
   "source": [
    "6. Write a Python Program to Find the Sum of Natural Numbers?\n",
    "Ans:\n",
    "def sum_ofnum(num:int) ->int:\n",
    "    return int((num*(num+1))/2)"
   ]
  },
  {
   "cell_type": "code",
   "execution_count": null,
   "id": "44df140f",
   "metadata": {},
   "outputs": [],
   "source": []
  }
 ],
 "metadata": {
  "kernelspec": {
   "display_name": "Python 3",
   "language": "python",
   "name": "python3"
  },
  "language_info": {
   "codemirror_mode": {
    "name": "ipython",
    "version": 3
   },
   "file_extension": ".py",
   "mimetype": "text/x-python",
   "name": "python",
   "nbconvert_exporter": "python",
   "pygments_lexer": "ipython3",
   "version": "3.8.8"
  }
 },
 "nbformat": 4,
 "nbformat_minor": 5
}

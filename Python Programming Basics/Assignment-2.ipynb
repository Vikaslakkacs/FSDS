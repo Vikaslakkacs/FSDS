{
 "cells": [
  {
   "cell_type": "code",
   "execution_count": null,
   "id": "4e3a6d90",
   "metadata": {},
   "outputs": [],
   "source": [
    "1. Write a Python program to convert kilometers to miles?\n",
    "Ans:\n",
    "    def kilo_miles(kilo):\n",
    "    miles= 0.621371 * kilo\n",
    "    return miles"
   ]
  },
  {
   "cell_type": "code",
   "execution_count": null,
   "id": "b4ffcd25",
   "metadata": {},
   "outputs": [],
   "source": [
    "2. Write a Python program to convert Celsius to Fahrenheit?\n",
    "Ans:\n",
    "    def celsius_farenheit(celcius):\n",
    "    faren=(celcius * (9/5))+32\n",
    "    return faren"
   ]
  },
  {
   "cell_type": "code",
   "execution_count": null,
   "id": "88aa5a00",
   "metadata": {},
   "outputs": [],
   "source": [
    "3. Write a Python program to display calendar?\n",
    "Ans:\n",
    "    import calendar\n",
    "calendar.monthcalendar(2022, 2)"
   ]
  },
  {
   "cell_type": "code",
   "execution_count": null,
   "id": "b694a9ac",
   "metadata": {},
   "outputs": [],
   "source": [
    "4. Write a Python program to solve quadratic equation?\n",
    "Ans:def quadratic_equation(a, b, c):\n",
    "    discrimination= b**2 - (4*a*c)\n",
    "    sqrt_discrimination= discrimination**(1/2)\n",
    "    ## Roots are real but different\n",
    "    if discrimination > 0:\n",
    "        root1= (-b + sqrt_discrimination) / (2 * a)\n",
    "        root2= (-b - sqrt_discrimination) / (2 * a)\n",
    "    ## Roots are real and same\n",
    "    elif discrimination ==0:\n",
    "        root1=(-b)/(2 * a)\n",
    "        root2= root1\n",
    "    else:\n",
    "        ## Roots are complex\n",
    "        root1= (-b)/(2*a)\n",
    "        root1= str(root1) + '+i'+ str(sqrt_discrimination)\n",
    "        root2= str(root1) + '-i' + str(sqrt_discrimination)\n",
    "        \n",
    "    return root1, root2"
   ]
  },
  {
   "cell_type": "code",
   "execution_count": null,
   "id": "50d8a719",
   "metadata": {},
   "outputs": [],
   "source": [
    "5. Write a Python program to swap two variables without temp variable?\n",
    "Ans: \n",
    "    def swapping_values(a,b):\n",
    "    a= a+b\n",
    "    b= a-b\n",
    "    a= a-b\n",
    "    \n",
    "    return a,b "
   ]
  },
  {
   "cell_type": "code",
   "execution_count": null,
   "id": "cba3eda1",
   "metadata": {},
   "outputs": [],
   "source": []
  }
 ],
 "metadata": {
  "kernelspec": {
   "display_name": "Python 3",
   "language": "python",
   "name": "python3"
  },
  "language_info": {
   "codemirror_mode": {
    "name": "ipython",
    "version": 3
   },
   "file_extension": ".py",
   "mimetype": "text/x-python",
   "name": "python",
   "nbconvert_exporter": "python",
   "pygments_lexer": "ipython3",
   "version": "3.8.8"
  }
 },
 "nbformat": 4,
 "nbformat_minor": 5
}

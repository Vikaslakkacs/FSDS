{
 "cells": [
  {
   "cell_type": "raw",
   "id": "0815ea46",
   "metadata": {},
   "source": [
    "1. Write a Python program to check if the given number is a Disarium Number?\n",
    "Ans:\n",
    "def disarium(input_num:int):\n",
    "    a=input_num\n",
    "    num_list=[]\n",
    "    while a>=1:\n",
    "        #print(a)\n",
    "        x=a%10\n",
    "        num_list.append(x)\n",
    "        a=int(a/10)\n",
    "    summation=0\n",
    "    for index,num in enumerate(num_list[::-1]):\n",
    "        summation+=num**(index+1)\n",
    "        #print(a, summation)\n",
    "    if summation==input_num:\n",
    "        print(\"disarium number\")\n",
    "    else:\n",
    "        print(\"not a disarium number\")\n"
   ]
  },
  {
   "cell_type": "raw",
   "id": "d48e5ba3",
   "metadata": {},
   "source": [
    "2. Write a Python program to print all disarium numbers between 1 to 100?\n",
    "Ans:\n",
    "def disarium(input_num:int):\n",
    "    a=input_num\n",
    "    num_list=[]\n",
    "    while a>=1:\n",
    "        #print(a)\n",
    "        x=a%10\n",
    "        num_list.append(x)\n",
    "        a=int(a/10)\n",
    "    summation=0\n",
    "    for index,num in enumerate(num_list[::-1]):\n",
    "        summation+=num**(index+1)\n",
    "        #print(a, summation)\n",
    "    if summation==input_num:\n",
    "        return True\n",
    "    else:\n",
    "        return False\n",
    "disarium_list=[]\n",
    "for i in range(100):\n",
    "    if disarium(i):\n",
    "        disarium_list.append(i)\n",
    "    "
   ]
  },
  {
   "cell_type": "raw",
   "id": "48277ff9",
   "metadata": {},
   "source": [
    "3. Write a Python program to check if the given number is Happy Number?\n",
    "Ans:\n",
    "def happy_check(a:int):\n",
    "    happy_list=[]\n",
    "    while a>=1:\n",
    "        x=a%10\n",
    "        happy_list.append(x)\n",
    "        a= int(a/10)\n",
    "    happy_result=0\n",
    "    #print(happy_list)\n",
    "    for i in happy_list:\n",
    "        happy_result+=i**2\n",
    "    return happy_result\n",
    "\n",
    "def happy_number(x:int):\n",
    "    happy_repeat_list=[]\n",
    "    #x=12\n",
    "    while True:\n",
    "        result=happy_check(x)\n",
    "        x= result\n",
    "        #print(result)\n",
    "        if result in happy_repeat_list:\n",
    "            return False\n",
    "            \n",
    "        elif result==1:\n",
    "            return True\n",
    "        else:\n",
    "            happy_repeat_list.append(result)\n",
    "        "
   ]
  },
  {
   "cell_type": "raw",
   "id": "0f9f1712",
   "metadata": {},
   "source": [
    "4. Write a Python program to print all happy numbers between 1 and 100?\n",
    "Ans:\n",
    "def happy_check(a:int):\n",
    "    happy_list=[]\n",
    "    while a>=1:\n",
    "        x=a%10\n",
    "        happy_list.append(x)\n",
    "        a= int(a/10)\n",
    "    happy_result=0\n",
    "    #print(happy_list)\n",
    "    for i in happy_list:\n",
    "        happy_result+=i**2\n",
    "    return happy_result\n",
    "\n",
    "def happy_number(x:int):\n",
    "    happy_repeat_list=[]\n",
    "    #x=12\n",
    "    while True:\n",
    "        result=happy_check(x)\n",
    "        x= result\n",
    "        #print(result)\n",
    "        if result in happy_repeat_list:\n",
    "            return False\n",
    "            \n",
    "        elif result==1:\n",
    "            return True\n",
    "        else:\n",
    "            happy_repeat_list.append(result)\n",
    "        \n",
    "happy_range_list=[]\n",
    "for i in range(100):\n",
    "    if happy_number(i):\n",
    "        happy_range_list.append(i)"
   ]
  },
  {
   "cell_type": "raw",
   "id": "edb354c4",
   "metadata": {},
   "source": [
    "5. Write a Python program to determine whether the given number is a Harshad Number?\n",
    "Ans:\n",
    "def harshad_denom_num(input_num:int):\n",
    "    a= input_num\n",
    "    num_list=[]\n",
    "    while a>=1:\n",
    "        #print(a)\n",
    "        x=a%10\n",
    "        num_list.append(x)\n",
    "        a=int(a/10)\n",
    "    ## add the values in list for denominator\n",
    "    denom_result=0\n",
    "    for i in num_list:\n",
    "        denom_result+=i\n",
    "    return denom_result\n",
    "\n",
    "def harshad_num(input_num:int):\n",
    "    denom= harshad_denom_num(input_num)\n",
    "    if input_num%denom==0:\n",
    "        return True\n",
    "    else:\n",
    "        return False\n",
    "\n",
    "harshad_num(171)"
   ]
  },
  {
   "cell_type": "raw",
   "id": "1b7dadb8",
   "metadata": {},
   "source": [
    "6. Write a Python program to print all pronic numbers between 1 and 100?\n",
    "Ans:\n",
    "\n",
    "def pronic_num(val_range:int):\n",
    "    pronic_list=[]\n",
    "    for i in range(1,val_range+1):\n",
    "        pronic_list.append(i*(i+1))\n",
    "    return pronic_list\n",
    "pronic_num(100)"
   ]
  },
  {
   "cell_type": "raw",
   "id": "f41ac988",
   "metadata": {},
   "source": []
  },
  {
   "cell_type": "raw",
   "id": "7cd047b8",
   "metadata": {},
   "source": []
  },
  {
   "cell_type": "raw",
   "id": "716794b6",
   "metadata": {},
   "source": []
  },
  {
   "cell_type": "code",
   "execution_count": null,
   "id": "33a329bb",
   "metadata": {},
   "outputs": [],
   "source": []
  }
 ],
 "metadata": {
  "kernelspec": {
   "display_name": "Python 3",
   "language": "python",
   "name": "python3"
  },
  "language_info": {
   "codemirror_mode": {
    "name": "ipython",
    "version": 3
   },
   "file_extension": ".py",
   "mimetype": "text/x-python",
   "name": "python",
   "nbconvert_exporter": "python",
   "pygments_lexer": "ipython3",
   "version": "3.8.8"
  }
 },
 "nbformat": 4,
 "nbformat_minor": 5
}

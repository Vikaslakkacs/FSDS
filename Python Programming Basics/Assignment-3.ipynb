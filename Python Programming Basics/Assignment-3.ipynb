{
 "cells": [
  {
   "cell_type": "raw",
   "id": "1d35e819",
   "metadata": {},
   "source": [
    "1. Write a Python Program to Check if a Number is Positive, Negative or Zero?\n",
    "Ans:\n",
    "    def check_num_sign(num:float):\n",
    "    if num>0:\n",
    "        return \"positive\"\n",
    "    elif num <0:\n",
    "        return \"negative\"\n",
    "    else:\n",
    "        return \"Zero\"\n",
    "\n",
    "check_num_sign(0)"
   ]
  },
  {
   "cell_type": "raw",
   "id": "c973d0f6",
   "metadata": {},
   "source": [
    "2. Write a Python Program to Check if a Number is Odd or Even?\n",
    "Ans:\n",
    "def even_odd(num:int):\n",
    "    if num%2==0 or num==0:\n",
    "        return \"Even\"\n",
    "    else:\n",
    "        return \"Odd\""
   ]
  },
  {
   "cell_type": "raw",
   "id": "af1e3414",
   "metadata": {},
   "source": [
    "3. Write a Python Program to Check Leap Year?\n",
    "Ans:\n",
    "def leap_year(num:int):\n",
    "    if num%4==0:\n",
    "        return \"Leap Year\"\n",
    "    else:\n",
    "        return \"Not a Leap Year\""
   ]
  },
  {
   "cell_type": "raw",
   "id": "c726151c",
   "metadata": {},
   "source": [
    "4. Write a Python Program to Check Prime Number?\n",
    "Ans:\n",
    "def check_prime(inpnum:int):\n",
    "    ## loop around 1-9 numbers and check whether it s divisible by any of the numbers\n",
    "    list_num=[2,5,6,7,8,9]\n",
    "    prime_list=[1,3,5,7]\n",
    "    if inpnum in prime_list:a\n",
    "        return \"Prime\"\n",
    "    for num in list_num:\n",
    "        if inpnum%num==0:\n",
    "            return \"Not a Prime\"\n",
    "    \n",
    "    return \"Prime\""
   ]
  },
  {
   "cell_type": "raw",
   "id": "9bb26d95",
   "metadata": {},
   "source": [
    "5. Write a Python Program to Print all Prime Numbers in an Interval of 1-10000?\n",
    "Ans:\n",
    "\n",
    "def check_prime(inpnum:int)-> str:\n",
    "    ## loop around 1-9 numbers and check whether it s divisible by any of the numbers\n",
    "    list_num=[2,5,6,7,8,9]\n",
    "    prime_list=[1,3,5,7]\n",
    "    if inpnum in prime_list:\n",
    "        return \"Prime\"\n",
    "    for num in list_num:\n",
    "        if inpnum%num==0:\n",
    "            return \"Not a Prime\"\n",
    "    return \"Prime\"\n",
    " \n",
    " def list_primes(startnum:int, endnum:int) -> list:\n",
    "    prime_list=[]\n",
    "    for num in range(startnum, endnum+1):\n",
    "        if check_prime(num)==\"Prime\":\n",
    "            prime_list.append(num)\n",
    "    return prime_list"
   ]
  },
  {
   "cell_type": "code",
   "execution_count": null,
   "id": "f4f3d863",
   "metadata": {},
   "outputs": [],
   "source": []
  }
 ],
 "metadata": {
  "kernelspec": {
   "display_name": "Python 3",
   "language": "python",
   "name": "python3"
  },
  "language_info": {
   "codemirror_mode": {
    "name": "ipython",
    "version": 3
   },
   "file_extension": ".py",
   "mimetype": "text/x-python",
   "name": "python",
   "nbconvert_exporter": "python",
   "pygments_lexer": "ipython3",
   "version": "3.8.8"
  }
 },
 "nbformat": 4,
 "nbformat_minor": 5
}

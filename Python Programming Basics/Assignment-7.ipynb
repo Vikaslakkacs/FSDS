{
 "cells": [
  {
   "cell_type": "raw",
   "id": "03665f71",
   "metadata": {},
   "source": [
    "1. Write a Python Program to find sum of array?\n",
    "Ans:\n",
    "def sum_of_array(array_val):\n",
    "    result=0\n",
    "    for i in array_val:\n",
    "        result+=i\n",
    "    return result\n",
    "\n",
    "import array as arr\n",
    "a= arr.array('i', [1,2,3,4,5])\n",
    "sum_of_array(a)"
   ]
  },
  {
   "cell_type": "raw",
   "id": "64db6e89",
   "metadata": {},
   "source": [
    "2. Write a Python Program to find largest element in an array?\n",
    "Ans:\n",
    "def largest_arr(array_val):\n",
    "    largest_val=0\n",
    "    for num in array_val:\n",
    "        if num > largest_val:\n",
    "            largest_val=num\n",
    "    return largest_val\n",
    "a= arr.array('i', [1,2,3,4,56,2,7,99,34,255,7,8,9])\n",
    "largest_arr(a)"
   ]
  },
  {
   "cell_type": "raw",
   "id": "7f24d325",
   "metadata": {},
   "source": [
    "3. Write a Python Program for array rotation?\n",
    "Ans:\n",
    "def array_rotation(array_val, rotate_val:int):\n",
    "    print(a)\n",
    "    for i in range(rotate_val):\n",
    "        ## Store first value in temp variable\n",
    "        temp_val= array_val[0]\n",
    "        ## remove first value\n",
    "        array_val.pop(0)\n",
    "        ## Add temp variable to last of the array\n",
    "        array_val.append(temp_val)\n",
    "    return array_val\n",
    "a= arr.array('i', [1,2,3,4,56,2,7,99,34,255,7,8,9])\n",
    "array_rotation(a, 3)"
   ]
  },
  {
   "cell_type": "raw",
   "id": "edcfc95c",
   "metadata": {},
   "source": [
    "4. Write a Python Program to Split the array and add the first part to the end?\n",
    "Ans:\n",
    "def array_rotation(array_val):\n",
    "    print(a)\n",
    "    for i in range(len(array_val//2):\n",
    "        ## Store first value in temp variable\n",
    "        temp_val= array_val[0]\n",
    "        ## remove first value\n",
    "        array_val.pop(0)\n",
    "        ## Add temp variable to last of the array\n",
    "        array_val.append(temp_val)\n",
    "    return array_val\n",
    "a= arr.array('i', [1,2,3,4,56,2,7,99,34,255,7,8,9])\n",
    "array_rotation(a)"
   ]
  },
  {
   "cell_type": "raw",
   "id": "ce4cc849",
   "metadata": {},
   "source": [
    "5. Write a Python Program to check if given array is Monotonic?\n",
    "ans:\n",
    "def monotonic(array_val, index):\n",
    "    while True:\n",
    "        if index==len(array_val)-1:\n",
    "            return \"Array is monotonic\"\n",
    "        else:\n",
    "            if array_val[index]<array_val[index+1]:\n",
    "                index+=1\n",
    "                monotonic(array_val,index)\n",
    "            else:\n",
    "                return \"Array is not monotonic\"\n",
    "b=arr.array('i', [1, 2, 3, 4, 5, 6, 7,10,3,1])\n",
    "a=arr.array('i', [1, 2, 3, 4, 5, 6, 7])\n",
    "monotonic(a,0)\n",
    "monotonic(b,0)"
   ]
  },
  {
   "cell_type": "code",
   "execution_count": null,
   "id": "94fcf409",
   "metadata": {},
   "outputs": [],
   "source": []
  }
 ],
 "metadata": {
  "kernelspec": {
   "display_name": "Python 3",
   "language": "python",
   "name": "python3"
  },
  "language_info": {
   "codemirror_mode": {
    "name": "ipython",
    "version": 3
   },
   "file_extension": ".py",
   "mimetype": "text/x-python",
   "name": "python",
   "nbconvert_exporter": "python",
   "pygments_lexer": "ipython3",
   "version": "3.8.8"
  }
 },
 "nbformat": 4,
 "nbformat_minor": 5
}

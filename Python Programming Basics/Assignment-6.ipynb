{
 "cells": [
  {
   "cell_type": "raw",
   "id": "9119c4a7",
   "metadata": {},
   "source": [
    "1. Write a Python Program to Display Fibonacci Sequence Using Recursion?\n",
    "Ans:\n",
    "def fib(loop_range:int,initial_num:int,start_pos:int):\n",
    "    if loop_range>1:\n",
    "        loop_range-=1\n",
    "        initial_num,start_pos= start_pos,start_pos+initial_num\n",
    "        print(start_pos)\n",
    "        fib(loop_range,initial_num,start_pos)\n",
    "fib(10,0,1)"
   ]
  },
  {
   "cell_type": "raw",
   "id": "864d8be8",
   "metadata": {},
   "source": [
    "2. Write a Python Program to Find Factorial of Number Using Recursion?\n",
    "Ans:\n",
    "def fact(x:int):\n",
    "    if x>0:\n",
    "        y=x *fact(x-1)\n",
    "        return y\n",
    "    else:\n",
    "        return 1\n",
    "fact(10)"
   ]
  },
  {
   "cell_type": "raw",
   "id": "914b6efe",
   "metadata": {},
   "source": [
    "3. Write a Python Program to calculate your Body Mass Index?\n",
    "Ans:\n",
    "def BMI_calculator(weight:float, height_cm:float):\n",
    "    ##Conversion of height from cm to Meters\n",
    "    height_m=height_cm/100\n",
    "    \n",
    "    ##Formula BMI\n",
    "    bmi=round(weight/(height_m**2),ndigits=1)\n",
    "    return bmi\n",
    "BMI_calculator(80, 180)"
   ]
  },
  {
   "cell_type": "raw",
   "id": "0887b05a",
   "metadata": {},
   "source": [
    "4. Write a Python Program to calculate the natural logarithm of any number?\n",
    "Ans:\n",
    "import numpy as np\n",
    "np.log(x"
   ]
  },
  {
   "cell_type": "raw",
   "id": "7309b513",
   "metadata": {},
   "source": [
    "5. Write a Python Program for cube sum of first n natural numbers?\n",
    "Ans:\n",
    "def cube_sum(val:int)->int:\n",
    "    ##formula\n",
    "    return int(((val**2)*(val+1)**2)/4)\n",
    "cube_sum(5)"
   ]
  },
  {
   "cell_type": "code",
   "execution_count": null,
   "id": "f0de22ef",
   "metadata": {},
   "outputs": [],
   "source": []
  },
  {
   "cell_type": "code",
   "execution_count": null,
   "id": "a632fb24",
   "metadata": {},
   "outputs": [],
   "source": []
  },
  {
   "cell_type": "code",
   "execution_count": null,
   "id": "89463186",
   "metadata": {},
   "outputs": [],
   "source": []
  }
 ],
 "metadata": {
  "kernelspec": {
   "display_name": "Python 3",
   "language": "python",
   "name": "python3"
  },
  "language_info": {
   "codemirror_mode": {
    "name": "ipython",
    "version": 3
   },
   "file_extension": ".py",
   "mimetype": "text/x-python",
   "name": "python",
   "nbconvert_exporter": "python",
   "pygments_lexer": "ipython3",
   "version": "3.8.8"
  }
 },
 "nbformat": 4,
 "nbformat_minor": 5
}

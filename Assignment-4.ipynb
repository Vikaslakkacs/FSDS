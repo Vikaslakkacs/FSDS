{
 "cells": [
  {
   "cell_type": "code",
   "execution_count": 31,
   "id": "12a9b7b5",
   "metadata": {},
   "outputs": [
    {
     "name": "stdout",
     "output_type": "stream",
     "text": [
      "(1, 2, 3, 4)\n"
     ]
    }
   ],
   "source": [
    "x=(1,2,3,4)\n",
    "y=[1,2,3,4]\n",
    "z=tuple(y)\n",
    "print(z)\n"
   ]
  },
  {
   "cell_type": "code",
   "execution_count": 20,
   "id": "30b9337f",
   "metadata": {},
   "outputs": [],
   "source": [
    "x.insert(3, 4)"
   ]
  },
  {
   "cell_type": "code",
   "execution_count": 22,
   "id": "8acc5fde",
   "metadata": {},
   "outputs": [
    {
     "data": {
      "text/plain": [
       "4"
      ]
     },
     "execution_count": 22,
     "metadata": {},
     "output_type": "execute_result"
    }
   ],
   "source": [
    "x.pop()"
   ]
  },
  {
   "cell_type": "code",
   "execution_count": 24,
   "id": "a3f42d71",
   "metadata": {},
   "outputs": [],
   "source": [
    "x.remove('y')"
   ]
  },
  {
   "cell_type": "code",
   "execution_count": 25,
   "id": "8078434c",
   "metadata": {},
   "outputs": [
    {
     "data": {
      "text/plain": [
       "['a', 'd', 'r', 4, 'f']"
      ]
     },
     "execution_count": 25,
     "metadata": {},
     "output_type": "execute_result"
    }
   ],
   "source": [
    "x"
   ]
  },
  {
   "cell_type": "raw",
   "id": "25d767af",
   "metadata": {},
   "source": [
    "1. What exactly is []?\n",
    "\n",
    "Ans: List"
   ]
  },
  {
   "cell_type": "raw",
   "id": "f95db6fe",
   "metadata": {},
   "source": [
    "\n",
    "2. In a list of values stored in a variable called spam, how would you assign the value 'hello' as the\n",
    "third value? (Assume [2, 4, 6, 8, 10] are in spam.)\n",
    "\n",
    "Ans: spam[2]='Hello'"
   ]
  },
  {
   "cell_type": "raw",
   "id": "13026cd0",
   "metadata": {},
   "source": [
    "\n",
    "Lets pretend the spam includes the list ['a', 'b', 'c', 'd'] for the next three queries."
   ]
  },
  {
   "cell_type": "raw",
   "id": "debbf43b",
   "metadata": {},
   "source": [
    "3. What is the value of spam[int(int('3' * 2) / 11)]?\n",
    "\n",
    "Ans: 'd'"
   ]
  },
  {
   "cell_type": "raw",
   "id": "b168b6da",
   "metadata": {},
   "source": [
    "4. What is the value of spam[-1]?\n",
    "Ans: 'd'"
   ]
  },
  {
   "cell_type": "raw",
   "id": "34d105fd",
   "metadata": {},
   "source": [
    "5. What is the value of spam[:2]?\n",
    "\n",
    "Ans: ['a', 'b']"
   ]
  },
  {
   "cell_type": "raw",
   "id": "9434e59b",
   "metadata": {},
   "source": [
    "\n",
    "Lets pretend bacon has the list [3.14, 'cat,' 11, 'cat,' True] for the next three questions."
   ]
  },
  {
   "cell_type": "raw",
   "id": "ca7a9180",
   "metadata": {},
   "source": [
    "6. What is the value of bacon.index('cat')?\n",
    "Ans: 1"
   ]
  },
  {
   "cell_type": "raw",
   "id": "338e91d0",
   "metadata": {},
   "source": [
    "7. How does bacon.append(99) change the look of the list value in bacon?\n",
    "\n",
    "Ans: 99 will be added at the las of the list"
   ]
  },
  {
   "cell_type": "raw",
   "id": "274628d2",
   "metadata": {},
   "source": [
    "\n",
    "8. How does bacon.remove('cat') change the look of the list in bacon?\n",
    "\n",
    "Ans: [3.14, ' 11, 'cat,' True]"
   ]
  },
  {
   "cell_type": "raw",
   "id": "49c5a78d",
   "metadata": {},
   "source": [
    "\n",
    "9. What are the list concatenation and list replication operators?\n",
    "\n",
    "Ans: List concatenation would concatenate two lists together list1+ list2 would do the task\n",
    "List replication will replicate the list and the operator used is *"
   ]
  },
  {
   "cell_type": "raw",
   "id": "000d1d40",
   "metadata": {},
   "source": [
    "\n",
    "10. What is difference between the list methods append() and insert()?\n",
    "\n",
    "Ans: append will add the value at the last index of the list\n",
    "insert can append at any index point in the list\n"
   ]
  },
  {
   "cell_type": "raw",
   "id": "c5a701ae",
   "metadata": {},
   "source": [
    "\n",
    "11. What are the two methods for removing items from a list?\n",
    "Ans: pop and remove"
   ]
  },
  {
   "cell_type": "raw",
   "id": "99d14fef",
   "metadata": {},
   "source": [
    "\n",
    "12. Describe how list values and string values are identical.\n",
    "Ans: We can iterate both the values. They are iterable"
   ]
  },
  {
   "cell_type": "raw",
   "id": "8ffc5e7a",
   "metadata": {},
   "source": [
    "\n",
    "13. Whats the difference between tuples and lists?\n",
    "Ans: List is mutable and tuples are immutable objects where we cannot change once they are created."
   ]
  },
  {
   "cell_type": "raw",
   "id": "854bba83",
   "metadata": {},
   "source": [
    "\n",
    "14. How do you type a tuple value that only contains the integer 42?\n",
    "\n",
    "Ans: x=(42)"
   ]
  },
  {
   "cell_type": "raw",
   "id": "4adff1f4",
   "metadata": {},
   "source": [
    "\n",
    "15. How do you get a list values tuple form? How do you get a tuple values list form?\n",
    "Ans: tuple(list)\n",
    "List(tuple)"
   ]
  },
  {
   "cell_type": "raw",
   "id": "56817fc9",
   "metadata": {},
   "source": [
    "\n",
    "16. Variables that \"contain\" list values are not necessarily lists themselves. Instead, what do they\n",
    "contain?\n",
    "\n",
    "Ans: they can be tuples, dictionaries and even a string which we can iterate"
   ]
  },
  {
   "cell_type": "raw",
   "id": "f367f2a7",
   "metadata": {},
   "source": [
    "\n",
    "17. How do you distinguish between copy.copy() and copy.deepcopy()?\n",
    "Ans: \n",
    "copy.copy(): \n",
    "1. It will create a new clone object and assign different ids to the values inside.\n",
    "2. But if there are any nested objects present in the outer object then the values inside the nexted object carry same id as of original object.\n",
    "\n",
    "copy.deepcopy():\n",
    "1. Deep copy will drill down deep and change all the ids of the objects and values inside parent object."
   ]
  }
 ],
 "metadata": {
  "kernelspec": {
   "display_name": "Python 3",
   "language": "python",
   "name": "python3"
  },
  "language_info": {
   "codemirror_mode": {
    "name": "ipython",
    "version": 3
   },
   "file_extension": ".py",
   "mimetype": "text/x-python",
   "name": "python",
   "nbconvert_exporter": "python",
   "pygments_lexer": "ipython3",
   "version": "3.8.8"
  }
 },
 "nbformat": 4,
 "nbformat_minor": 5
}

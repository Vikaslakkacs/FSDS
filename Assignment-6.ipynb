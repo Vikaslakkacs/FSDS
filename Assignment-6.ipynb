{
 "cells": [
  {
   "cell_type": "raw",
   "id": "f68d700f",
   "metadata": {},
   "source": [
    "1. What are escape characters, and how do you use them?\n",
    "Ans:\n",
    "To escape the illegal characters in string we use excape characters"
   ]
  },
  {
   "cell_type": "raw",
   "id": "c7749125",
   "metadata": {},
   "source": [
    "2. What do the escape characters n and t stand for?\n",
    "ans:\n",
    "n: newline\n",
    "t: tab"
   ]
  },
  {
   "cell_type": "raw",
   "id": "7d87ad4b",
   "metadata": {},
   "source": [
    "3. What is the way to include backslash characters in a string?\n",
    "Ans:\n",
    "\\\\"
   ]
  },
  {
   "cell_type": "raw",
   "id": "20408dc6",
   "metadata": {},
   "source": [
    "4. The string \"Howl's Moving Castle\" is a correct value. Why isn't the single quote character in the word Howl's not escaped a problem?\n",
    "Ans:\n",
    "Double quotes will skip single quotes instring"
   ]
  },
  {
   "cell_type": "raw",
   "id": "01a690e3",
   "metadata": {},
   "source": [
    "5. How do you write a string of newlines if you don't want to use the n character?\n",
    "Ans: We can use os.linesep"
   ]
  },
  {
   "cell_type": "raw",
   "id": "5358ed4e",
   "metadata": {},
   "source": [
    "6. What are the values of the given expressions?\n",
    "'Hello, world!'[1]: e\n",
    "'Hello, world!'[0:5]: Hello\n",
    "'Hello, world!'[:5]:Hello\n",
    "'Hello, world!'[3:]:lo, World\n",
    "\n"
   ]
  },
  {
   "cell_type": "raw",
   "id": "f9b36e6b",
   "metadata": {},
   "source": [
    "\n",
    "7. What are the values of the following expressions?\n",
    "'Hello'.upper():'HELLO'\n",
    "'Hello'.upper().isupper(): True\n",
    "'Hello'.upper().lower():hello"
   ]
  },
  {
   "cell_type": "raw",
   "id": "070d19fe",
   "metadata": {},
   "source": [
    "\n",
    "8. What are the values of the following expressions?\n",
    "'Remember, remember, the fifth of July.'.split()=['Remember,', 'remember,', 'the', 'fifth', 'of', 'july.']\n",
    "'-'.join('There can only one.'.split()): 'There-can-only-one'"
   ]
  },
  {
   "cell_type": "raw",
   "id": "24151ab3",
   "metadata": {},
   "source": [
    "\n",
    "9. What are the methods for right-justifying, left-justifying, and centering a string?\n",
    "Ans:\n",
    "string.rjust(width, string_value)\n",
    "string.ljust(width, string_value)\n",
    "string.center(width, string_value)"
   ]
  },
  {
   "cell_type": "raw",
   "id": "0f2964fa",
   "metadata": {},
   "source": [
    "\n",
    "10. What is the best way to remove whitespace characters from the start or end?\n",
    "Ans:\n",
    "string.lstrip().rstrip()"
   ]
  },
  {
   "cell_type": "code",
   "execution_count": null,
   "id": "21c47b8b",
   "metadata": {},
   "outputs": [],
   "source": []
  }
 ],
 "metadata": {
  "kernelspec": {
   "display_name": "Python 3",
   "language": "python",
   "name": "python3"
  },
  "language_info": {
   "codemirror_mode": {
    "name": "ipython",
    "version": 3
   },
   "file_extension": ".py",
   "mimetype": "text/x-python",
   "name": "python",
   "nbconvert_exporter": "python",
   "pygments_lexer": "ipython3",
   "version": "3.8.8"
  }
 },
 "nbformat": 4,
 "nbformat_minor": 5
}

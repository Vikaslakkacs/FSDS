{
 "cells": [
  {
   "cell_type": "raw",
   "id": "34dea531",
   "metadata": {},
   "source": [
    "1. In the below elements which of them are values or an expression? eg:- values can be\n",
    "integer or string and expressions will be mathematical operators.\n",
    "\n",
    "*:Expression\n",
    "\n",
    "'hello': String\n",
    "\n",
    "-87.8: value\n",
    "\n",
    "-: expression\n",
    "\n",
    "/: expression\n",
    "    \n",
    "+: expression\n",
    "    \n",
    "6: value"
   ]
  },
  {
   "cell_type": "raw",
   "id": "979a7a85",
   "metadata": {},
   "source": [
    "2. What is the difference between string and variable?\n",
    "\n",
    "Ans: Variable is a place holder where it can hold variables, itegers and even expressions as well\n",
    "String is set of characters such as names, alphabets and symbols |etc."
   ]
  },
  {
   "cell_type": "raw",
   "id": "8dd30dfa",
   "metadata": {},
   "source": [
    "3. Describe three different data types.\n",
    "Ans: String: Which holds characters\n",
    "    Integer: Which has numbers\n",
    "    float: which holds floating point numbers\n",
    "    date: Which holds date\n",
    "    Boolean: which holds true of false"
   ]
  },
  {
   "cell_type": "raw",
   "id": "a233c967",
   "metadata": {},
   "source": [
    "4. What is an expression made up of? What do all expressions do?\n",
    "Ans: Expression is made up of variable, operands.\n",
    "    Expressions perform operations and store results in variables."
   ]
  },
  {
   "cell_type": "raw",
   "id": "ef6fa871",
   "metadata": {},
   "source": [
    "5. This assignment statements, like spam = 10. What is the difference between an\n",
    "expression and a statement?\n",
    "Ans: Expression is made up of varialbles, operands and statement is mde up of one or more expressions\n",
    "    "
   ]
  },
  {
   "cell_type": "raw",
   "id": "f00e0980",
   "metadata": {},
   "source": [
    "6. After running the following code, what does the variable bacon contain?\n",
    "\n",
    "bacon=22\n",
    "bacon+1\n",
    "\n",
    "Ans: 22"
   ]
  },
  {
   "cell_type": "raw",
   "id": "ab0b9cab",
   "metadata": {},
   "source": [
    "7. What should the values of the following two terms be?\n",
    "spam+spamspam\n",
    "spam*3\n",
    "\n",
    "Ans: spamspamspam"
   ]
  },
  {
   "cell_type": "raw",
   "id": "9cc1c283",
   "metadata": {},
   "source": [
    "8. Why is eggs a valid variable name while 100 is invalid?\n",
    "Ans: a variable should contain either string or combination of string and integer but not integer alone"
   ]
  },
  {
   "cell_type": "raw",
   "id": "6b46a9f0",
   "metadata": {},
   "source": [
    "9. What three functions can be used to get the integer, floating-point number, or string\n",
    "version of a value?\n",
    "\n",
    "Ans: int(value)\n",
    "float(value)\n",
    "str(value)"
   ]
  },
  {
   "cell_type": "raw",
   "id": "c5a6b38c",
   "metadata": {},
   "source": [
    "10. Why does this expression cause an error? How can you fix it?\n",
    "\n",
    "'I have eaten' + 99 + 'burritos.'\n",
    "\n",
    "Ans: The above expression contains concatenation of string and integer which causes error because of integer.\n",
    "The fixing can be done by converting integer to string str(99)\n",
    "'I have eaten' + str(99) + 'burritos'"
   ]
  },
  {
   "cell_type": "code",
   "execution_count": null,
   "id": "651f29e5",
   "metadata": {},
   "outputs": [],
   "source": []
  },
  {
   "cell_type": "code",
   "execution_count": null,
   "id": "e45ed0a4",
   "metadata": {},
   "outputs": [],
   "source": []
  }
 ],
 "metadata": {
  "kernelspec": {
   "display_name": "Python 3",
   "language": "python",
   "name": "python3"
  },
  "language_info": {
   "codemirror_mode": {
    "name": "ipython",
    "version": 3
   },
   "file_extension": ".py",
   "mimetype": "text/x-python",
   "name": "python",
   "nbconvert_exporter": "python",
   "pygments_lexer": "ipython3",
   "version": "3.8.8"
  }
 },
 "nbformat": 4,
 "nbformat_minor": 5
}

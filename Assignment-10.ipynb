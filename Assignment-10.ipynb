{
 "cells": [
  {
   "cell_type": "code",
   "execution_count": null,
   "id": "1a8b4343",
   "metadata": {},
   "outputs": [],
   "source": [
    "1. How do you distinguish between shutil.copy() and shutil.copytree()?\n",
    "Ans: shutil.copy(): Will copy files to destination directory\n",
    "    shutil.copytree(): will copy entire directory to destination directory"
   ]
  },
  {
   "cell_type": "code",
   "execution_count": null,
   "id": "99405bec",
   "metadata": {},
   "outputs": [],
   "source": [
    "2. What function is used to rename files??\n",
    "Ans: os.rename"
   ]
  },
  {
   "cell_type": "code",
   "execution_count": null,
   "id": "f6c7914a",
   "metadata": {},
   "outputs": [],
   "source": [
    "3. What is the difference between the delete functions in the send2trash and shutil modules?\n",
    "Ans: in send2trash files will be sent directly to recycle bin\n",
    "    in shutil.rmtree: Entire directory will be removed."
   ]
  },
  {
   "cell_type": "code",
   "execution_count": null,
   "id": "5025ad02",
   "metadata": {},
   "outputs": [],
   "source": [
    "4.ZipFile objects have a close() method just like File objects’ close() method. What ZipFile method is\n",
    "equivalent to File objects’ open() method?\n",
    "Ans: with Zipfile(filename, 'r') as zip"
   ]
  },
  {
   "cell_type": "code",
   "execution_count": null,
   "id": "2a1bddcb",
   "metadata": {},
   "outputs": [],
   "source": [
    "5. Create a programme that searches a folder tree for files with a certain file extension (such as .pdf\n",
    "or .jpg). Copy these files from whatever location they are in to a new folder.\n",
    "\n",
    "import os\n",
    "import shutil\n",
    "def file_extension_search(file_ext:str, dir_path:str, destination:str):\n",
    "    file_ext_list=[]\n",
    "    try:\n",
    "        for filename in os.listdir(dir_path):\n",
    "            ## splitting the text\n",
    "            ext=os.path.splitext(filename)\n",
    "            if ext[1]==file_ext:\n",
    "                ## Copy to destination\n",
    "                src_file_path=os.path.join(dir_path, filename)\n",
    "                dest_file_path= os.path.join(destionation, filename)\n",
    "                shutil.copy(src_file_path, dest_file_path)\n",
    "        \n",
    "        \n"
   ]
  },
  {
   "cell_type": "code",
   "execution_count": null,
   "id": "60b8131d",
   "metadata": {},
   "outputs": [],
   "source": []
  }
 ],
 "metadata": {
  "kernelspec": {
   "display_name": "Python 3",
   "language": "python",
   "name": "python3"
  },
  "language_info": {
   "codemirror_mode": {
    "name": "ipython",
    "version": 3
   },
   "file_extension": ".py",
   "mimetype": "text/x-python",
   "name": "python",
   "nbconvert_exporter": "python",
   "pygments_lexer": "ipython3",
   "version": "3.8.8"
  }
 },
 "nbformat": 4,
 "nbformat_minor": 5
}
